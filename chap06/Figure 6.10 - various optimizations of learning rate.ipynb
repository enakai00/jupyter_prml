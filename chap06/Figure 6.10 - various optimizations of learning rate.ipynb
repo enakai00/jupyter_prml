{
 "cells": [
  {
   "cell_type": "markdown",
   "metadata": {},
   "source": [
    "# 勾配降下法の最適化アルゴリズム比較"
   ]
  },
  {
   "cell_type": "markdown",
   "metadata": {},
   "source": [
    "PRML Figure 6.10 で紹介されているガウス過程による回帰計算における、ハイパーパラメータの最適化を3種類のアルゴリズムで実施します。\n",
    "\n",
    "* 俺々デルタ\n",
    "* RMSprop\n",
    "* Adadelta\n",
    "\n",
    "これらは、勾配降下法における学習率をどのように変化させるかという点で、その振る舞いが異なります。\n",
    "\n",
    "「俺々デルタ」は解の特性を理解した上で、この問題に特化して設定したアルゴリズムです。RMSpropとAdadeltaについては、[An overview of gradient descent optimization algorithms](http://sebastianruder.com/optimizing-gradient-descent/)を参考にしてください。\n",
    "\n",
    "対象とする問題そのものの解説は詳しくはしていませんが、ざっくりとした解説は[PRML6.4.2 Gaussian processes for regressionのメモ](http://enakai00.hatenablog.com/entry/2016/03/17/103542)を参照してください。"
   ]
  },
  {
   "cell_type": "markdown",
   "metadata": {},
   "source": [
    "## 事前準備"
   ]
  },
  {
   "cell_type": "markdown",
   "metadata": {},
   "source": [
    "データセットを用意します。特徴変数 (x1, x2, x3) から t を推定します。x1 と t には真の相関があり、x2 と t には擬似的な弱い相関があります。x3 と t には相関はありません。 "
   ]
  },
  {
   "cell_type": "code",
   "execution_count": 1,
   "metadata": {
    "collapsed": false
   },
   "outputs": [],
   "source": [
    "%matplotlib inline\n",
    "import numpy as np\n",
    "import matplotlib.pyplot as plt\n",
    "from numpy.random import normal"
   ]
  },
  {
   "cell_type": "code",
   "execution_count": 2,
   "metadata": {
    "collapsed": true
   },
   "outputs": [],
   "source": [
    "def prep_data():\n",
    "    x1 = normal(0.0, 0.5, num_data)\n",
    "    x2 = x1 + normal(0.0, 0.01, num_data)\n",
    "    x3 = normal(0.0, 0.5, num_data)\n",
    "    t = np.sin(2.0*np.pi*x1) + normal(0, 1.0/np.sqrt(beta), num_data)\n",
    "    return t, x1, x2, x3"
   ]
  },
  {
   "cell_type": "code",
   "execution_count": 3,
   "metadata": {
    "collapsed": true
   },
   "outputs": [],
   "source": [
    "np.random.seed(20160317)\n",
    "num_data = 100\n",
    "beta = 36.0\n",
    "t0 = 1.0\n",
    "t, x1, x2, x3 = prep_data()"
   ]
  },
  {
   "cell_type": "markdown",
   "metadata": {},
   "source": [
    "ガウス過程による回帰で必要となる相関行列とそのハイパーパラメータによる偏微分を定義しておきます。"
   ]
  },
  {
   "cell_type": "code",
   "execution_count": 4,
   "metadata": {
    "collapsed": true
   },
   "outputs": [],
   "source": [
    "def matrix_c():\n",
    "    c = np.zeros(num_data*num_data).reshape(num_data,num_data)\n",
    "    for n in range(num_data):\n",
    "        for m in range(num_data):\n",
    "            c[n][m] = t0 * np.exp(-0.5 * (\n",
    "                              eta[0]*(x1[n]-x1[m])*(x1[n]-x1[m]) +\n",
    "                              eta[1]*(x2[n]-x2[m])*(x2[n]-x2[m]) +\n",
    "                              eta[2]*(x3[n]-x3[m])*(x3[n]-x3[m]) ))\n",
    "    for n in range(num_data):\n",
    "        c[n][n] += 1.0/beta\n",
    "    return c"
   ]
  },
  {
   "cell_type": "code",
   "execution_count": 5,
   "metadata": {
    "collapsed": true
   },
   "outputs": [],
   "source": [
    "def deru_c(x):\n",
    "    c = matrix_c()\n",
    "    for n in range(num_data):\n",
    "        c[n][n] -= 1.0/beta\n",
    "    for n in range(num_data):\n",
    "        for m in range(num_data):\n",
    "            c[n][m] *= -0.5 * (x[n]-x[m])*(x[n]-x[m])\n",
    "    return c"
   ]
  },
  {
   "cell_type": "markdown",
   "metadata": {
    "collapsed": true
   },
   "source": [
    "## 俺々デルタ"
   ]
  },
  {
   "cell_type": "markdown",
   "metadata": {},
   "source": [
    "3つのハイパーパラメータ eta1, eta2, eta3 は、初期値 1.0 から開始して、eta1, eta2 は値が大きくなり、eta3 は 0 に近づくことが期待されます。そこで、eta の絶対値に比例した学習率を設定します。"
   ]
  },
  {
   "cell_type": "code",
   "execution_count": 6,
   "metadata": {
    "collapsed": true
   },
   "outputs": [],
   "source": [
    "def run_ore_delta():\n",
    "    global eta\n",
    "    eta1s, eta2s, eta3s = [eta[0]], [eta[1]], [eta[2]]\n",
    "    for i in range(1, iter_num+1):\n",
    "        c = matrix_c()\n",
    "        c_inv = np.linalg.inv(c)\n",
    "        d = [deru_c(x1), deru_c(x2), deru_c(x3)]\n",
    "        for j in range(3):\n",
    "            tmp0 = np.dot(t, np.dot(c_inv, np.dot(d[j], np.dot(c_inv, t))))\n",
    "            delta = -0.5 * np.trace(np.dot(c_inv, d[j])) + 0.5 * tmp0\n",
    "            eta[j] += rate * np.abs(eta[j]) * delta\n",
    "\n",
    "        if i % 50 == 0:\n",
    "            c = matrix_c()\n",
    "            c_inv = np.linalg.inv(c)\n",
    "            logp = -0.5*np.log(np.linalg.det(c))-0.5*np.dot(t,np.dot(c_inv,t))-0.5*num_data*np.log(2*np.pi)\n",
    "            eta1s.append(eta[0])\n",
    "            eta2s.append(eta[1])\n",
    "            eta3s.append(eta[2])\n",
    "            print logp, eta\n",
    "            \n",
    "    return eta1s, eta2s, eta3s"
   ]
  },
  {
   "cell_type": "code",
   "execution_count": 7,
   "metadata": {
    "collapsed": false,
    "scrolled": false
   },
   "outputs": [
    {
     "name": "stdout",
     "output_type": "stream",
     "text": [
      "12.0335824737 [4.342169427439778, 4.4043462474642165, 0.053396100953989861]\n",
      "14.4512929325 [4.8096732146036274, 4.764030921202238, 2.3642924289125619e-10]\n",
      "14.5229100863 [5.0779604407036212, 4.8827876685669391, 4.0764218944919972e-19]\n",
      "14.5499505097 [5.26000129014996, 4.9179753467593281, 1.5444544866120909e-27]\n",
      "14.5638070037 [5.3951132235813297, 4.9111449215675771, 7.4402090776662281e-36]\n",
      "14.5729730109 [5.5022682848765703, 4.8818721866877501, 3.4729028070375387e-44]\n",
      "14.5801725253 [5.5917833776813586, 4.840493007509, 1.3569866498484345e-52]\n",
      "14.5863722351 [5.6696453924373893, 4.7927989188216351, 4.0937429608295884e-61]\n",
      "14.5919444715 [5.7394659151354199, 4.7421402135112922, 9.1234981682441494e-70]\n",
      "14.5970471275 [5.8034800249572953, 4.6904852594227116, 1.4684900533241568e-78]\n",
      "14.6017570282 [5.8630980030638922, 4.638994893311323, 1.6905304773418714e-87]\n",
      "14.6061189423 [5.9192255932823041, 4.5883488123959646, 1.3892754395005683e-96]\n",
      "14.6101641713 [5.9724558437956965, 4.5389366682935508, 8.1734103751574988e-106]\n",
      "14.6139177842 [6.0231863074437664, 4.4909721087661305, 3.4621884200633605e-115]\n",
      "14.6174015106 [6.0716915187565421, 4.4445616807061628, 1.0637799813305498e-124]\n",
      "14.6206349431 [6.1181681472729146, 4.3997467974915923, 2.3908309175398345e-134]\n",
      "14.6236360702 [6.1627632525216081, 4.3565294380120712, 3.9655731986009514e-144]\n",
      "14.6264215383 [6.2055920099559456, 4.3148879413725219, 4.898737529741026e-154]\n",
      "14.6290068027 [6.2467488475171615, 4.2747867389139325, 4.5484450851071917e-164]\n",
      "14.6314062295 [6.2863144484492901, 4.2361823606695816, 3.2032524163903187e-174]\n"
     ]
    }
   ],
   "source": [
    "iter_num = 1000\n",
    "rate = 0.005\n",
    "eta = [1.0, 1.0, 1.0]\n",
    "etas = run_ore_delta()"
   ]
  },
  {
   "cell_type": "code",
   "execution_count": 8,
   "metadata": {
    "collapsed": false,
    "scrolled": true
   },
   "outputs": [
    {
     "data": {
      "text/plain": [
       "[<matplotlib.lines.Line2D at 0x346b250>]"
      ]
     },
     "execution_count": 8,
     "metadata": {},
     "output_type": "execute_result"
    },
    {
     "data": {
      "image/png": "[encoded data removed]",
      "text/plain": [
       "<matplotlib.figure.Figure at 0x3462f50>"
      ]
     },
     "metadata": {},
     "output_type": "display_data"
    }
   ],
   "source": [
    "fig = plt.figure()\n",
    "subplot = fig.add_subplot(1,1,1)\n",
    "subplot.plot(np.arange(0,len(etas[0])), etas[0])\n",
    "subplot.plot(np.arange(0,len(etas[1])), etas[1])\n",
    "subplot.plot(np.arange(0,len(etas[2])), etas[2])"
   ]
  },
  {
   "cell_type": "markdown",
   "metadata": {},
   "source": [
    "3つのハイパーパラメータそれぞれの予測値 t に対する相関の強さに応じて、ハイパーパラメータの値が綺麗に分離されています。"
   ]
  },
  {
   "cell_type": "markdown",
   "metadata": {},
   "source": [
    "## RMSprop"
   ]
  },
  {
   "cell_type": "markdown",
   "metadata": {},
   "source": [
    "RMSpropでは、「勾配の2乗の加重移動平均」の平方根に反比例する形で学習率を落とします。加重移動平均を用いることで、過去の移動の傾向をしばらく保持する効果があります。"
   ]
  },
  {
   "cell_type": "code",
   "execution_count": 9,
   "metadata": {
    "collapsed": false
   },
   "outputs": [],
   "source": [
    "  def run_rmsprop():\n",
    "    global eta\n",
    "    eta1s, eta2s, eta3s = [eta[0]], [eta[1]], [eta[2]]\n",
    "    g = [0, 0, 0]\n",
    "\n",
    "    for i in range(1, iter_num+1):\n",
    "        c = matrix_c()\n",
    "        c_inv = np.linalg.inv(c)\n",
    "        d = [deru_c(x1), deru_c(x2), deru_c(x3)]\n",
    "        for j in range(3):\n",
    "            tmp0 = np.dot(t, np.dot(c_inv, np.dot(d[j], np.dot(c_inv, t))))\n",
    "            delta = -0.5 * np.trace(np.dot(c_inv, d[j])) + 0.5 * tmp0\n",
    "            g[j] = 0.9 * g[j] + 0.1 * delta*delta\n",
    "            eta[j] += rate/np.sqrt((g[j]+0.00000001)) * delta        \n",
    "\n",
    "        if i % 50 == 0:\n",
    "            c = matrix_c()\n",
    "            c_inv = np.linalg.inv(c)\n",
    "            logp = -0.5*np.log(np.linalg.det(c))-0.5*np.dot(t,np.dot(c_inv,t))-0.5*num_data*np.log(2*np.pi)\n",
    "            eta1s.append(eta[0])\n",
    "            eta2s.append(eta[1])\n",
    "            eta3s.append(eta[2])\n",
    "            print logp, eta\n",
    "            \n",
    "    return eta1s, eta2s, eta3s"
   ]
  },
  {
   "cell_type": "code",
   "execution_count": 10,
   "metadata": {
    "collapsed": false,
    "scrolled": true
   },
   "outputs": [
    {
     "name": "stdout",
     "output_type": "stream",
     "text": [
      "-106.894426936 [1.5254511370397215, 1.5256025920366749, 0.38409424518069207]\n",
      "-35.5912451731 [1.94108957435976, 1.9413804410369635, 0.0078536918810286453]\n",
      "-8.54751004062 [2.3543343756516526, 2.3543581462678818, 0.018507854532863698]\n",
      "3.08250353948 [2.7704125945741902, 2.7707288429691554, 0.023487559859051928]\n",
      "8.61243511998 [3.1917370187648904, 3.1910041231734114, 0.018637100527463334]\n",
      "11.5391977969 [3.6197188672886154, 3.6177380885532049, 0.011609061612054069]\n",
      "12.2563901421 [4.0366002829402303, 4.0068606277003003, 0.022290950159118705]\n",
      "12.8099533448 [4.4668474823810183, 4.431205419370662, 0.025710823261111893]\n",
      "12.9829239388 [4.7707464608376702, 4.7226604954089835, 0.028193429818454047]\n",
      "13.0963196237 [4.8766245984034997, 4.8326786858795261, 0.026593898305123872]\n",
      "14.6288454968 [5.2182239351375355, 5.1009994236759137, -0.0028119297497352712]\n",
      "13.2834630802 [5.4679306798622438, 5.2051949924243539, 0.025022966924860005]\n",
      "13.2598863111 [5.6377637190840533, 5.1356979608774544, 0.025818850877481505]\n",
      "13.2325161766 [5.7445688390538043, 5.0413800027422875, 0.026630468684970689]\n",
      "13.2661856829 [5.829178273938652, 4.9563492584245674, 0.025575736967563767]\n",
      "13.2714746411 [5.9325329971269563, 4.9359506602420087, 0.025435861915151597]\n",
      "13.261147525 [5.9903199243326553, 4.8691677398693676, 0.025701669723561325]\n",
      "13.9216760689 [6.0391511640872642, 4.7900337422711914, 0.010328166851095853]\n",
      "13.7702091725 [6.0601133487307504, 4.8337618176693944, 0.013207830562349638]\n",
      "13.371079027 [6.0793897921708728, 4.8253120028730949, 0.022549796443235015]\n"
     ]
    }
   ],
   "source": [
    "iter_num = 1000\n",
    "rate = 0.01\n",
    "eta = [1.0, 1.0, 1.0]\n",
    "etas = run_rmsprop()"
   ]
  },
  {
   "cell_type": "code",
   "execution_count": 11,
   "metadata": {
    "collapsed": false
   },
   "outputs": [
    {
     "data": {
      "text/plain": [
       "[<matplotlib.lines.Line2D at 0x3477450>]"
      ]
     },
     "execution_count": 11,
     "metadata": {},
     "output_type": "execute_result"
    },
    {
     "data": {
      "image/png": "[encoded data removed]",
      "text/plain": [
       "<matplotlib.figure.Figure at 0x347b4d0>"
      ]
     },
     "metadata": {},
     "output_type": "display_data"
    }
   ],
   "source": [
    "fig = plt.figure()\n",
    "subplot = fig.add_subplot(1,1,1)\n",
    "subplot.plot(np.arange(0,len(etas[0])), etas[0])\n",
    "subplot.plot(np.arange(0,len(etas[1])), etas[1])\n",
    "subplot.plot(np.arange(0,len(etas[2])), etas[2])"
   ]
  },
  {
   "cell_type": "markdown",
   "metadata": {},
   "source": [
    "俺々デルタに比べて初期の変化が遅いようですが、後半はほぼ同じ結果に収束しています。"
   ]
  },
  {
   "cell_type": "markdown",
   "metadata": {},
   "source": [
    "## Adadelta"
   ]
  },
  {
   "cell_type": "markdown",
   "metadata": {},
   "source": [
    "Adadeltaは、「勾配の2乗の加重移動平均」の平方根に反比例すると同時に、「パラメータの変化量の2乗の加重移動平均」の平方根に比例する形で学習率を変化させます。過去の変化の傾向をより強く反映します。"
   ]
  },
  {
   "cell_type": "code",
   "execution_count": 12,
   "metadata": {
    "collapsed": true
   },
   "outputs": [],
   "source": [
    " def run_adadelta():\n",
    "    global eta\n",
    "    eta1s, eta2s, eta3s = [eta[0]], [eta[1]], [eta[2]]\n",
    "    g = [0, 0, 0]\n",
    "    s = [0.1, 0.1, 0.1]\n",
    "\n",
    "    for i in range(1, iter_num+1):\n",
    "        c = matrix_c()\n",
    "        c_inv = np.linalg.inv(c)\n",
    "        d = [deru_c(x1), deru_c(x2), deru_c(x3)]\n",
    "        for j in range(3):\n",
    "            tmp0 = np.dot(t, np.dot(c_inv, np.dot(d[j], np.dot(c_inv, t))))\n",
    "            delta = -0.5 * np.trace(np.dot(c_inv, d[j])) + 0.5 * tmp0\n",
    "            g[j] = 0.9 * g[j] + 0.1 * delta*delta\n",
    "            v = np.sqrt((s[j]+0.00000001)/(g[j]+0.00000001)) * delta        \n",
    "            s[j] = 0.9 * s[j] + 0.1 * v*v\n",
    "            eta[j] += v\n",
    "\n",
    "        if i % 50 == 0:\n",
    "            c = matrix_c()\n",
    "            c_inv = np.linalg.inv(c)\n",
    "            logp = -0.5*np.log(np.linalg.det(c))-0.5*np.dot(t,np.dot(c_inv,t))-0.5*num_data*np.log(2*np.pi)\n",
    "            eta1s.append(eta[0])\n",
    "            eta2s.append(eta[1])\n",
    "            eta3s.append(eta[2])\n",
    "            print logp, eta\n",
    "            \n",
    "    return eta1s, eta2s, eta3s"
   ]
  },
  {
   "cell_type": "code",
   "execution_count": 13,
   "metadata": {
    "collapsed": false
   },
   "outputs": [
    {
     "name": "stdout",
     "output_type": "stream",
     "text": [
      "0.0700781925678 [3.5517885815674424, 3.5622517650790204, 1.0252133365462741]\n",
      "4.0936227496 [3.9310499847906417, 3.951268544299491, 0.68468485386027089]\n",
      "9.63035997148 [4.1491142258000684, 4.1810100842127174, 0.22493415022138086]\n",
      "13.0041113081 [4.3149821268153152, 4.3530682381576318, 0.017249899663531368]\n",
      "14.3639224698 [4.4521458811891952, 4.4607220896116155, -0.0028184099101959213]\n",
      "14.4580489989 [4.5672006608038727, 4.5320754138998547, -0.002337277191249557]\n",
      "14.5115169328 [4.6670545891173063, 4.5850019326850697, -0.0026034928673056078]\n",
      "14.5490136624 [4.7557079608768564, 4.6263460796629845, -0.0026100107726852641]\n",
      "14.5752334338 [4.8355017732803027, 4.6586659309618819, -0.0026822609196430524]\n",
      "14.59972579 [4.9081623287114864, 4.6837430954046342, -0.0026202673983063913]\n",
      "14.6152324866 [4.9749539734300381, 4.7025349646839265, -0.0026950562328068787]\n",
      "14.6320353645 [5.0369280479874243, 4.7156220964750171, -0.0026293329840486922]\n",
      "14.6418417016 [5.0949156607757056, 4.7224580238828171, -0.0027107282240872287]\n",
      "14.6548379277 [5.149752245210836, 4.7212799597967541, -0.002639354141069231]\n",
      "14.6618539345 [5.2022472764357559, 4.7098883475428446, -0.0027319617276517195]\n",
      "14.6736539038 [5.2531450493452114, 4.6916450428108787, -0.0026534827881604215]\n",
      "14.679584223 [5.3028691208764158, 4.6684035152042949, -0.0027557358265476403]\n",
      "14.6913122613 [5.351788001020104, 4.641843727026651, -0.002650916168117278]\n",
      "14.6998053072 [5.4001108510293987, 4.613088621211471, -0.0025906109283210682]\n",
      "14.708181933 [5.4479651640381004, 4.5812673112616054, -0.0026409873522507017]\n"
     ]
    }
   ],
   "source": [
    "iter_num = 1000\n",
    "rate = 0.005\n",
    "eta = [1.0, 1.0, 1.0]\n",
    "etas = run_adadelta()"
   ]
  },
  {
   "cell_type": "code",
   "execution_count": 14,
   "metadata": {
    "collapsed": false
   },
   "outputs": [
    {
     "data": {
      "text/plain": [
       "[<matplotlib.lines.Line2D at 0x3476b10>]"
      ]
     },
     "execution_count": 14,
     "metadata": {},
     "output_type": "execute_result"
    },
    {
     "data": {
      "image/png": "[encoded data removed]",
      "text/plain": [
       "<matplotlib.figure.Figure at 0x390f510>"
      ]
     },
     "metadata": {},
     "output_type": "display_data"
    }
   ],
   "source": [
    "fig = plt.figure()\n",
    "subplot = fig.add_subplot(1,1,1)\n",
    "subplot.plot(np.arange(0,len(etas[0])), etas[0])\n",
    "subplot.plot(np.arange(0,len(etas[1])), etas[1])\n",
    "subplot.plot(np.arange(0,len(etas[2])), etas[2])"
   ]
  },
  {
   "cell_type": "markdown",
   "metadata": {},
   "source": [
    "初期の変化は、RMSpropよりも早くなっています。後半の動きは、俺々デルタよりはやや遅いようです。"
   ]
  },
  {
   "cell_type": "markdown",
   "metadata": {},
   "source": [
    "## 結論"
   ]
  },
  {
   "cell_type": "markdown",
   "metadata": {},
   "source": [
    "当たり前ですが、問題の特性を理解した上で、アルゴリズムを決定するのがベストです。現実の問題では、最初から特性がわかるものではないですので、まずは、汎用性のあるアルゴリズムで当たりをつけて特性をさぐりながら、最適なアルゴリズムを探していきましょう。"
   ]
  }
 ],
 "metadata": {
  "kernelspec": {
   "display_name": "Python 2",
   "language": "python",
   "name": "python2"
  },
  "language_info": {
   "codemirror_mode": {
    "name": "ipython",
    "version": 2
   },
   "file_extension": ".py",
   "mimetype": "text/x-python",
   "name": "python",
   "nbconvert_exporter": "python",
   "pygments_lexer": "ipython2",
   "version": "2.7.5"
  }
 },
 "nbformat": 4,
 "nbformat_minor": 0
}
