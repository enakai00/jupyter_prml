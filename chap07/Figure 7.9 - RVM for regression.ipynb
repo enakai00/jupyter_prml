{
 "cells": [
  {
   "cell_type": "markdown",
   "metadata": {},
   "source": [
    "## Reproducing Figure 7.9 in PRML"
   ]
  },
  {
   "cell_type": "markdown",
   "metadata": {},
   "source": [
    "Import modules."
   ]
  },
  {
   "cell_type": "code",
   "execution_count": 1,
   "metadata": {
    "collapsed": false
   },
   "outputs": [],
   "source": [
    "%matplotlib inline\n",
    "import numpy as np\n",
    "import matplotlib.pyplot as plt\n",
    "import pandas as pd\n",
    "from pandas import Series, DataFrame\n",
    "from numpy.random import normal\n",
    "\n",
    "np.random.seed(20160508)"
   ]
  },
  {
   "cell_type": "markdown",
   "metadata": {},
   "source": [
    "Generate a training set."
   ]
  },
  {
   "cell_type": "code",
   "execution_count": 2,
   "metadata": {
    "collapsed": true
   },
   "outputs": [],
   "source": [
    "def create_dataset(num):\n",
    "    x = np.linspace(0,1,num)\n",
    "    y = np.sin(2*np.pi*x) + normal(scale=0.2, size=num)\n",
    "    return DataFrame({'x':x, 'y':y})\n",
    "\n",
    "N=10           # サンプルを取得する位置 x の個数\n",
    "train_set = create_dataset(N)\n",
    "t= np.array(train_set['y'])"
   ]
  },
  {
   "cell_type": "markdown",
   "metadata": {},
   "source": [
    "Prepare bases (kernel) functions. A bias term is omitted for simplicity."
   ]
  },
  {
   "cell_type": "code",
   "execution_count": 3,
   "metadata": {
    "collapsed": true
   },
   "outputs": [],
   "source": [
    "def kern(x_n,x_m):\n",
    "    return np.exp(-0.05*(x_n-x_m)*(x_n-x_m))\n",
    "\n",
    "phi = np.array([[kern(x1, x2) for x2 in np.linspace(0,1,N)] for x1 in np.linspace(0,1,N)])"
   ]
  },
  {
   "cell_type": "markdown",
   "metadata": {},
   "source": [
    "Define initinal values for hyperparameters."
   ]
  },
  {
   "cell_type": "code",
   "execution_count": 4,
   "metadata": {
    "collapsed": true
   },
   "outputs": [],
   "source": [
    "beta = 1.0\n",
    "alphas = np.array([0.1]*N)"
   ]
  },
  {
   "cell_type": "markdown",
   "metadata": {},
   "source": [
    "Optimize hyperparameters using the iterative method."
   ]
  },
  {
   "cell_type": "code",
   "execution_count": 5,
   "metadata": {
    "collapsed": false
   },
   "outputs": [
    {
     "data": {
      "text/plain": [
       "(0.21357722677957236,\n",
       " array([  8.14353747e-12,   2.76296220e+00,   2.45557318e-04,\n",
       "          2.30210904e-06,   4.71930294e-13,   4.42234292e+03,\n",
       "          1.25837032e+02,   2.29129060e-13,   6.06386569e-07,\n",
       "          1.03296584e-12]))"
      ]
     },
     "execution_count": 5,
     "metadata": {},
     "output_type": "execute_result"
    }
   ],
   "source": [
    "for loop in range(10000):\n",
    "    a = np.diag(alphas)\n",
    "    sigma = np.linalg.inv(a + beta*np.dot(phi.T,phi))\n",
    "    m = beta * np.dot(np.dot(sigma, phi.T), t)\n",
    "    gamma = np.array([1-alphas[i]*sigma[i][i] for i in range(N)])\n",
    "    alphas_old, beta_old = alphas, beta\n",
    "    alphas = np.array([gamma[i]/(m[i]*m[i]) for i in range(N)])\n",
    "    for i in range(N):\n",
    "        if alphas[i] <= 0:\n",
    "            alphas[i] = 10**(-50)\n",
    "    tmp = t-np.dot(phi,m.T)\n",
    "    beta = (N-np.sum(gamma))/np.dot(tmp,tmp.T)\n",
    "\n",
    "1/np.sqrt(beta),alphas"
   ]
  },
  {
   "cell_type": "markdown",
   "metadata": {},
   "source": [
    "Draw a graph of the means of the estimation."
   ]
  },
  {
   "cell_type": "code",
   "execution_count": 6,
   "metadata": {
    "collapsed": false
   },
   "outputs": [
    {
     "data": {
      "text/plain": [
       "<matplotlib.collections.PathCollection at 0x59c6490>"
      ]
     },
     "execution_count": 6,
     "metadata": {},
     "output_type": "execute_result"
    },
    {
     "data": {
      "image/png": "[encoded data removed]",
      "text/plain": [
       "<matplotlib.figure.Figure at 0x595cb90>"
      ]
     },
     "metadata": {},
     "output_type": "display_data"
    }
   ],
   "source": [
    "def mean(x, alphas):    \n",
    "    a = np.diag(alphas)\n",
    "    sigma = np.linalg.inv(a + beta*np.dot(phi.T,phi))\n",
    "    m = beta * np.dot(np.dot(sigma, phi.T), t.T)\n",
    "    p = np.array([kern(x, x2) for x2 in np.linspace(0,1,N)])\n",
    "    return np.dot(m, p)\n",
    "\n",
    "fig = plt.figure()\n",
    "linex = np.linspace(0,1,100)\n",
    "liney = mean(linex, alphas)\n",
    "subplot = fig.add_subplot(1,1,1)\n",
    "subplot.plot(linex,liney)\n",
    "subplot.scatter(train_set['x'],train_set['y'])"
   ]
  },
  {
   "cell_type": "markdown",
   "metadata": {},
   "source": [
    "Check the values of alphas with the descending order."
   ]
  },
  {
   "cell_type": "code",
   "execution_count": 7,
   "metadata": {
    "collapsed": false
   },
   "outputs": [
    {
     "data": {
      "text/plain": [
       "array([  2.29129060e-13,   4.71930294e-13,   1.03296584e-12,\n",
       "         8.14353747e-12,   6.06386569e-07,   2.30210904e-06,\n",
       "         2.45557318e-04,   2.76296220e+00,   1.25837032e+02,\n",
       "         4.42234292e+03])"
      ]
     },
     "execution_count": 7,
     "metadata": {},
     "output_type": "execute_result"
    }
   ],
   "source": [
    "np.sort(alphas)"
   ]
  },
  {
   "cell_type": "markdown",
   "metadata": {},
   "source": [
    "Draw graphs with increasing the relevant bases in the order of alphas.\n",
    "\n",
    "The large red circle indicates the data points corresponding to the relevant bases."
   ]
  },
  {
   "cell_type": "code",
   "execution_count": 8,
   "metadata": {
    "collapsed": false
   },
   "outputs": [
    {
     "data": {
      "image/png": "[encoded data removed]",
      "text/plain": [
       "<matplotlib.figure.Figure at 0x37dd310>"
      ]
     },
     "metadata": {},
     "output_type": "display_data"
    }
   ],
   "source": [
    "fig = plt.figure(figsize=(10,6))\n",
    "linex = np.linspace(0,1,100)\n",
    "\n",
    "for r in range(1,5):\n",
    "    alphas2 = np.copy(alphas)\n",
    "    cutoff = np.sort(alphas2)[r-1]\n",
    "    for i in range(N):\n",
    "        if alphas2[i] > cutoff:\n",
    "            alphas2[i] = 10.0**100\n",
    "            \n",
    "    subplot = fig.add_subplot(2,2,r)\n",
    "    liney = mean(linex, alphas2)\n",
    "    subplot.plot(linex,liney)\n",
    "    subplot.scatter(train_set['x'],train_set['y'])\n",
    "    train_set['alphas']=alphas\n",
    "    rel_set = train_set[train_set['alphas'] <= np.sort(train_set['alphas'])[r-1]]\n",
    "    subplot.scatter(rel_set['x'],rel_set['y'],s=40,color='red')"
   ]
  }
 ],
 "metadata": {
  "kernelspec": {
   "display_name": "Python 2",
   "language": "python",
   "name": "python2"
  },
  "language_info": {
   "codemirror_mode": {
    "name": "ipython",
    "version": 2
   },
   "file_extension": ".py",
   "mimetype": "text/x-python",
   "name": "python",
   "nbconvert_exporter": "python",
   "pygments_lexer": "ipython2",
   "version": "2.7.5"
  }
 },
 "nbformat": 4,
 "nbformat_minor": 0
}
